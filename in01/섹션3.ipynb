{
 "cells": [
  {
   "cell_type": "code",
   "execution_count": 17,
   "id": "592fd8b3",
   "metadata": {},
   "outputs": [
    {
     "name": "stdout",
     "output_type": "stream",
     "text": [
      "5\n",
      "10 13 10 12 15\n",
      "12 39 30 23 11\n",
      "11 25 50 53 15\n",
      "19 27 29 37 27\n",
      "19 13 30 13 19\n",
      "379\n"
     ]
    }
   ],
   "source": [
    "# 사과나무(다이아몬드)\n",
    "\n",
    "n = int(input())\n",
    "tree = [list(map(int, input().split())) for i in range(n)]\n",
    "\n",
    "res = 0\n",
    "\n",
    "start= end = n // 2\n",
    "mid = n // 2\n",
    "\n",
    "for row in range(n):\n",
    "    for col in range(start, end+1):\n",
    "        res += tree[row][col]\n",
    "        # col 증가하는 동안 start, end 는 고정\n",
    "    if row < mid:\n",
    "        start -= 1 \n",
    "        end += 1\n",
    "    else:\n",
    "        start += 1\n",
    "        end -= 1\n",
    "print(res)"
   ]
  },
  {
   "cell_type": "code",
   "execution_count": 20,
   "id": "9a6eefdf",
   "metadata": {},
   "outputs": [
    {
     "name": "stdout",
     "output_type": "stream",
     "text": [
      "5\n",
      "10 13 10 12 15\n",
      "12 39 30 23 11\n",
      "11 25 50 53 15\n",
      "19 27 29 37 27\n",
      "19 13 30 13 19\n",
      "3\n",
      "2 0 3\n",
      "5 1 2\n",
      "3 1 4\n",
      "362\n"
     ]
    }
   ],
   "source": [
    "# 모래시계\n",
    "\n",
    "n = int(input())\n",
    "st = [list(map(int, input().split())) for i in range(n)]\n",
    "\n",
    "num = int(input()) # 회전 명령의 횟수\n",
    "\n",
    "for i in range(num):\n",
    "    h, t, k = map(int, input().split())\n",
    "    if t == 0: #왼쪽 회전\n",
    "        for i in range(k):\n",
    "            st[h-1].append(st[h-1].pop(0))\n",
    "            # k 번 앞에서 꺼내서 뒤에 넣기 (회전)\n",
    "    else:\n",
    "        for i in range(k):\n",
    "            st[h-1].insert(0, st[h-1].pop())\n",
    "            # pop() -> 제일 뒤 요소 pop\n",
    "\n",
    "\n",
    "mid = n // 2\n",
    "s = 0\n",
    "e = n-1\n",
    "\n",
    "res = 0 \n",
    "for row in range(n):\n",
    "    for col in range(s,e+1):\n",
    "        res += st[row][col]\n",
    "    if row < mid:\n",
    "        s += 1\n",
    "        e -= 1\n",
    "    else:\n",
    "        s -= 1\n",
    "        e += 1\n",
    "print(res) "
   ]
  },
  {
   "cell_type": "code",
   "execution_count": null,
   "id": "a6740a20",
   "metadata": {},
   "outputs": [],
   "source": []
  }
 ],
 "metadata": {
  "kernelspec": {
   "display_name": "Python 3",
   "language": "python",
   "name": "python3"
  },
  "language_info": {
   "codemirror_mode": {
    "name": "ipython",
    "version": 3
   },
   "file_extension": ".py",
   "mimetype": "text/x-python",
   "name": "python",
   "nbconvert_exporter": "python",
   "pygments_lexer": "ipython3",
   "version": "3.7.9"
  }
 },
 "nbformat": 4,
 "nbformat_minor": 5
}
